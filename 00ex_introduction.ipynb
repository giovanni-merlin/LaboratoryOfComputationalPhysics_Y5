{
 "cells": [
  {
   "cell_type": "markdown",
   "metadata": {},
   "source": [
    "1. The MickeyMouse problem\n",
    "\n",
    "a) Write a program that prints the numbers from 1 to 100. But for multiples of 3 print `Mickey` instead of the corresponding number and for the multiples of 5 print `Mouse`. For numbers which are multiples of both three and five print `MickeyMouse`\n",
    "\n",
    "b) Put the result in a tuple and substitute `Mickey` with `Donald` and `Mouse` with `Duck`"
   ]
  },
  {
   "cell_type": "code",
   "execution_count": 28,
   "metadata": {},
   "outputs": [
    {
     "name": "stdout",
     "output_type": "stream",
     "text": [
      "[1, 2, 3, 4, 5, 6, 7, 8, 9, 10, 11, 12, 13, 14, 15, 16, 17, 18, 19, 20, 21, 22, 23, 24, 25, 26, 27, 28, 29, 30, 31, 32, 33, 34, 35, 36, 37, 38, 39, 40, 41, 42, 43, 44, 45, 46, 47, 48, 49, 50, 51, 52, 53, 54, 55, 56, 57, 58, 59, 60, 61, 62, 63, 64, 65, 66, 67, 68, 69, 70, 71, 72, 73, 74, 75, 76, 77, 78, 79, 80, 81, 82, 83, 84, 85, 86, 87, 88, 89, 90, 91, 92, 93, 94, 95, 96, 97, 98, 99, 100]\n",
      "[1, 2, 3, 'Mickey', 5, 'Mouse', 'Mickey', 8, 9, 'Mickey', 'Mouse', 12, 'Mickey', 14, 15, 'MickeyMouse', 17, 18, 'Mickey', 20, 'Mouse', 'Mickey', 23, 24, 'Mickey', 'Mouse', 27, 'Mickey', 29, 30, 'MickeyMouse', 32, 33, 'Mickey', 35, 'Mouse', 'Mickey', 38, 39, 'Mickey', 'Mouse', 42, 'Mickey', 44, 45, 'MickeyMouse', 47, 48, 'Mickey', 50, 'Mouse', 'Mickey', 53, 54, 'Mickey', 'Mouse', 57, 'Mickey', 59, 60, 'MickeyMouse', 62, 63, 'Mickey', 65, 'Mouse', 'Mickey', 68, 69, 'Mickey', 'Mouse', 72, 'Mickey', 74, 75, 'MickeyMouse', 77, 78, 'Mickey', 80, 'Mouse', 'Mickey', 83, 84, 'Mickey', 'Mouse', 87, 'Mickey', 89, 90, 'MickeyMouse', 92, 93, 'Mickey', 95, 'Mouse', 'Mickey', 98, 99, 'Mickey']\n"
     ]
    }
   ],
   "source": [
    "#a0: list with numbers from 1 to 100\n",
    "#a = [] #this is an empty list\n",
    "#a.append(x for x in range(100))\n",
    "#print(a)\n",
    "\n",
    "all = [x for x in range(1, 101)]\n",
    "print(all)\n",
    "\n",
    "for i in range(1,100):\n",
    "    if (i % 3 == 0 and i % 5 == 0):\n",
    "        all[i] = \"MickeyMouse\"\n",
    "    elif i % 3 == 0:\n",
    "        all[i] = \"Mickey\"\n",
    "    elif i % 5 == 0:\n",
    "        all[i] = \"Mouse\"\n",
    "\n",
    "print(all)        "
   ]
  },
  {
   "cell_type": "code",
   "execution_count": 29,
   "metadata": {
    "scrolled": false
   },
   "outputs": [
    {
     "name": "stdout",
     "output_type": "stream",
     "text": [
      "1\n",
      "2\n",
      "Mickey\n",
      "4\n",
      "Mouse\n",
      "Mickey\n",
      "7\n",
      "8\n",
      "Mickey\n",
      "Mouse\n",
      "11\n",
      "Mickey\n",
      "13\n",
      "14\n",
      "MickeyMouse\n",
      "16\n",
      "17\n",
      "Mickey\n",
      "19\n",
      "Mouse\n",
      "Mickey\n",
      "22\n",
      "23\n",
      "Mickey\n",
      "Mouse\n",
      "26\n",
      "Mickey\n",
      "28\n",
      "29\n",
      "MickeyMouse\n",
      "31\n",
      "32\n",
      "Mickey\n",
      "34\n",
      "Mouse\n",
      "Mickey\n",
      "37\n",
      "38\n",
      "Mickey\n",
      "Mouse\n",
      "41\n",
      "Mickey\n",
      "43\n",
      "44\n",
      "MickeyMouse\n",
      "46\n",
      "47\n",
      "Mickey\n",
      "49\n",
      "Mouse\n",
      "Mickey\n",
      "52\n",
      "53\n",
      "Mickey\n",
      "Mouse\n",
      "56\n",
      "Mickey\n",
      "58\n",
      "59\n",
      "MickeyMouse\n",
      "61\n",
      "62\n",
      "Mickey\n",
      "64\n",
      "Mouse\n",
      "Mickey\n",
      "67\n",
      "68\n",
      "Mickey\n",
      "Mouse\n",
      "71\n",
      "Mickey\n",
      "73\n",
      "74\n",
      "MickeyMouse\n",
      "76\n",
      "77\n",
      "Mickey\n",
      "79\n",
      "Mouse\n",
      "Mickey\n",
      "82\n",
      "83\n",
      "Mickey\n",
      "Mouse\n",
      "86\n",
      "Mickey\n",
      "88\n",
      "89\n",
      "MickeyMouse\n",
      "91\n",
      "92\n",
      "Mickey\n",
      "94\n",
      "Mouse\n",
      "Mickey\n",
      "97\n",
      "98\n",
      "Mickey\n",
      "Mouse\n",
      "(1, 2, 'Mickey', 4, 'Mouse', 'Mickey', 7, 8, 'Mickey', 'Mouse', 11, 'Mickey', 13, 14, 'MickeyMouse', 16, 17, 'Mickey', 19, 'Mouse', 'Mickey', 22, 23, 'Mickey', 'Mouse', 26, 'Mickey', 28, 29, 'MickeyMouse', 31, 32, 'Mickey', 34, 'Mouse', 'Mickey', 37, 38, 'Mickey', 'Mouse', 41, 'Mickey', 43, 44, 'MickeyMouse', 46, 47, 'Mickey', 49, 'Mouse', 'Mickey', 52, 53, 'Mickey', 'Mouse', 56, 'Mickey', 58, 59, 'MickeyMouse', 61, 62, 'Mickey', 64, 'Mouse', 'Mickey', 67, 68, 'Mickey', 'Mouse', 71, 'Mickey', 73, 74, 'MickeyMouse', 76, 77, 'Mickey', 79, 'Mouse', 'Mickey', 82, 83, 'Mickey', 'Mouse', 86, 'Mickey', 88, 89, 'MickeyMouse', 91, 92, 'Mickey', 94, 'Mouse', 'Mickey', 97, 98, 'Mickey', 'Mouse')\n",
      "[1, 2, 'Donald', 4, 'Duck', 'Donald', 7, 8, 'Donald', 'Duck', 11, 'Donald', 13, 14, 'MickeyMouse', 16, 17, 'Donald', 19, 'Duck', 'Donald', 22, 23, 'Donald', 'Duck', 26, 'Donald', 28, 29, 'MickeyMouse', 31, 32, 'Donald', 34, 'Duck', 'Donald', 37, 38, 'Donald', 'Duck', 41, 'Donald', 43, 44, 'MickeyMouse', 46, 47, 'Donald', 49, 'Duck', 'Donald', 52, 53, 'Donald', 'Duck', 56, 'Donald', 58, 59, 'MickeyMouse', 61, 62, 'Donald', 64, 'Duck', 'Donald', 67, 68, 'Donald', 'Duck', 71, 'Donald', 73, 74, 'MickeyMouse', 76, 77, 'Donald', 79, 'Duck', 'Donald', 82, 83, 'Donald', 'Duck', 86, 'Donald', 88, 89, 'MickeyMouse', 91, 92, 'Donald', 94, 'Duck', 'Donald', 97, 98, 'Donald', 'Duck']\n"
     ]
    }
   ],
   "source": [
    "for i in range(1,101):\n",
    "    if (i % 3 == 0 and i % 5 == 0):\n",
    "        print(\"MickeyMouse\")\n",
    "    elif i % 3 == 0:\n",
    "        print(\"Mickey\")\n",
    "    elif i % 5 == 0:\n",
    "        print(\"Mouse\")\n",
    "    else: print(i)\n",
    "    \n",
    "tuple = ()  #create empty tuple \n",
    "#sum = ()\n",
    "for i in range(1,101):\n",
    "    if (i % 3 == 0 and i % 5 == 0):\n",
    "        i = \"MickeyMouse\"\n",
    "    elif i % 3 == 0:\n",
    "        i = \"Mickey\"\n",
    "    elif i % 5 == 0:\n",
    "        i = \"Mouse\"\n",
    "    tuple = tuple + (i,)\n",
    "        \n",
    "print(tuple)\n",
    "\n",
    "is_a_list = list(tuple)\n",
    "for i in range(1,100):\n",
    "    if is_a_list[i] == \"Mickey\":\n",
    "        is_a_list[i] = \"Donald\"\n",
    "    elif is_a_list[i] == \"Mouse\":\n",
    "        is_a_list[i] = \"Duck\"\n",
    "\n",
    "print(is_a_list)"
   ]
  },
  {
   "cell_type": "markdown",
   "metadata": {},
   "source": [
    "2\\. The swap function\n",
    "\n",
    "Write a function that swap the values of two input variables x and y (whatever the type). Try to do that also without a temporary variable"
   ]
  },
  {
   "cell_type": "code",
   "execution_count": 14,
   "metadata": {},
   "outputs": [
    {
     "name": "stdout",
     "output_type": "stream",
     "text": [
      "set the value of x: 1\n",
      "set the value of y: 2\n",
      "2\n",
      "1\n"
     ]
    }
   ],
   "source": [
    "x = input(\"set the value of x: \")\n",
    "y = input(\"set the value of y: \")\n",
    "\n",
    "def swap(a, b):\n",
    "    temp = a\n",
    "    a = b\n",
    "    b = temp\n",
    "    return a, b\n",
    "    \n",
    "x, y = swap(x, y)\n",
    "    \n",
    "print(x)\n",
    "print(y)"
   ]
  },
  {
   "cell_type": "code",
   "execution_count": 10,
   "metadata": {
    "scrolled": true
   },
   "outputs": [
    {
     "name": "stdout",
     "output_type": "stream",
     "text": [
      "[2] [1]\n"
     ]
    }
   ],
   "source": [
    "def swap0(s1, s2):\n",
    "    assert type(s1) == list and type(s2) == list\n",
    "    tmp = s1[:]\n",
    "    s1[:] = s2\n",
    "    s2[:] = tmp\n",
    "    return\n",
    "    \n",
    "s1 = [1]\n",
    "s2 = [2]\n",
    "swap0(s1, s2)\n",
    "print(s1, s2)"
   ]
  },
  {
   "cell_type": "code",
   "execution_count": 7,
   "metadata": {},
   "outputs": [
    {
     "name": "stdout",
     "output_type": "stream",
     "text": [
      "set the value of x: el\n",
      "set the value of y: \n",
      " el\n"
     ]
    }
   ],
   "source": [
    "#easier and better\n",
    "\n",
    "x = input(\"set the value of x: \")\n",
    "y = input(\"set the value of y: \")\n",
    "\n",
    "x, y = y, x\n",
    "\n",
    "print(x, y)"
   ]
  },
  {
   "cell_type": "markdown",
   "metadata": {},
   "source": [
    "3\\. Computing the distance\n",
    "\n",
    "Write a function that calculates and returns the euclidean distance between two points *u* and *v*, where *u* and *v* are both 2-tuples *(x,y)*. For example, if *u=(3,0)* and *v=(0,4)*, the function should return 5"
   ]
  },
  {
   "cell_type": "code",
   "execution_count": 21,
   "metadata": {},
   "outputs": [
    {
     "ename": "KeyboardInterrupt",
     "evalue": "Interrupted by user",
     "output_type": "error",
     "traceback": [
      "\u001b[0;31m---------------------------------------------------------------------------\u001b[0m",
      "\u001b[0;31mKeyboardInterrupt\u001b[0m                         Traceback (most recent call last)",
      "\u001b[0;32m/tmp/ipykernel_18884/3852485070.py\u001b[0m in \u001b[0;36m<module>\u001b[0;34m\u001b[0m\n\u001b[1;32m      1\u001b[0m \u001b[0;32mimport\u001b[0m \u001b[0mmath\u001b[0m\u001b[0;34m\u001b[0m\u001b[0;34m\u001b[0m\u001b[0m\n\u001b[1;32m      2\u001b[0m \u001b[0;34m\u001b[0m\u001b[0m\n\u001b[0;32m----> 3\u001b[0;31m \u001b[0;34m(\u001b[0m\u001b[0mux\u001b[0m\u001b[0;34m,\u001b[0m \u001b[0muy\u001b[0m\u001b[0;34m)\u001b[0m \u001b[0;34m=\u001b[0m \u001b[0minput\u001b[0m\u001b[0;34m(\u001b[0m\u001b[0;34m\"set the coordinates of u (x,y): \"\u001b[0m\u001b[0;34m)\u001b[0m \u001b[0;31m#leggere caratteri continui\u001b[0m\u001b[0;34m\u001b[0m\u001b[0;34m\u001b[0m\u001b[0m\n\u001b[0m\u001b[1;32m      4\u001b[0m \u001b[0;34m(\u001b[0m\u001b[0mvx\u001b[0m\u001b[0;34m,\u001b[0m \u001b[0mvy\u001b[0m\u001b[0;34m)\u001b[0m \u001b[0;34m=\u001b[0m \u001b[0minput\u001b[0m\u001b[0;34m(\u001b[0m\u001b[0;34m\"set the coordinates of v (x,y): \"\u001b[0m\u001b[0;34m)\u001b[0m\u001b[0;34m\u001b[0m\u001b[0;34m\u001b[0m\u001b[0m\n\u001b[1;32m      5\u001b[0m \u001b[0;31m#input are strings!!! convert them\u001b[0m\u001b[0;34m\u001b[0m\u001b[0;34m\u001b[0m\u001b[0m\n",
      "\u001b[0;32m/usr/lib/python3/dist-packages/ipykernel/kernelbase.py\u001b[0m in \u001b[0;36mraw_input\u001b[0;34m(self, prompt)\u001b[0m\n\u001b[1;32m   1042\u001b[0m                 \u001b[0;34m\"raw_input was called, but this frontend does not support input requests.\"\u001b[0m\u001b[0;34m\u001b[0m\u001b[0;34m\u001b[0m\u001b[0m\n\u001b[1;32m   1043\u001b[0m             )\n\u001b[0;32m-> 1044\u001b[0;31m         return self._input_request(\n\u001b[0m\u001b[1;32m   1045\u001b[0m             \u001b[0mstr\u001b[0m\u001b[0;34m(\u001b[0m\u001b[0mprompt\u001b[0m\u001b[0;34m)\u001b[0m\u001b[0;34m,\u001b[0m\u001b[0;34m\u001b[0m\u001b[0;34m\u001b[0m\u001b[0m\n\u001b[1;32m   1046\u001b[0m             \u001b[0mself\u001b[0m\u001b[0;34m.\u001b[0m\u001b[0m_parent_ident\u001b[0m\u001b[0;34m[\u001b[0m\u001b[0;34m\"shell\"\u001b[0m\u001b[0;34m]\u001b[0m\u001b[0;34m,\u001b[0m\u001b[0;34m\u001b[0m\u001b[0;34m\u001b[0m\u001b[0m\n",
      "\u001b[0;32m/usr/lib/python3/dist-packages/ipykernel/kernelbase.py\u001b[0m in \u001b[0;36m_input_request\u001b[0;34m(self, prompt, ident, parent, password)\u001b[0m\n\u001b[1;32m   1087\u001b[0m             \u001b[0;32mexcept\u001b[0m \u001b[0mKeyboardInterrupt\u001b[0m\u001b[0;34m:\u001b[0m\u001b[0;34m\u001b[0m\u001b[0;34m\u001b[0m\u001b[0m\n\u001b[1;32m   1088\u001b[0m                 \u001b[0;31m# re-raise KeyboardInterrupt, to truncate traceback\u001b[0m\u001b[0;34m\u001b[0m\u001b[0;34m\u001b[0m\u001b[0m\n\u001b[0;32m-> 1089\u001b[0;31m                 \u001b[0;32mraise\u001b[0m \u001b[0mKeyboardInterrupt\u001b[0m\u001b[0;34m(\u001b[0m\u001b[0;34m\"Interrupted by user\"\u001b[0m\u001b[0;34m)\u001b[0m \u001b[0;32mfrom\u001b[0m \u001b[0;32mNone\u001b[0m\u001b[0;34m\u001b[0m\u001b[0;34m\u001b[0m\u001b[0m\n\u001b[0m\u001b[1;32m   1090\u001b[0m             \u001b[0;32mexcept\u001b[0m \u001b[0mException\u001b[0m\u001b[0;34m:\u001b[0m\u001b[0;34m\u001b[0m\u001b[0;34m\u001b[0m\u001b[0m\n\u001b[1;32m   1091\u001b[0m                 \u001b[0mself\u001b[0m\u001b[0;34m.\u001b[0m\u001b[0mlog\u001b[0m\u001b[0;34m.\u001b[0m\u001b[0mwarning\u001b[0m\u001b[0;34m(\u001b[0m\u001b[0;34m\"Invalid Message:\"\u001b[0m\u001b[0;34m,\u001b[0m \u001b[0mexc_info\u001b[0m\u001b[0;34m=\u001b[0m\u001b[0;32mTrue\u001b[0m\u001b[0;34m)\u001b[0m\u001b[0;34m\u001b[0m\u001b[0;34m\u001b[0m\u001b[0m\n",
      "\u001b[0;31mKeyboardInterrupt\u001b[0m: Interrupted by user"
     ]
    }
   ],
   "source": [
    "import math\n",
    "\n",
    "(ux, uy) = input(\"set the coordinates of u (x,y): \") #leggere caratteri continui\n",
    "(vx, vy) = input(\"set the coordinates of v (x,y): \")\n",
    "#input are strings!!! convert them\n",
    "\n",
    "tuple_u = (ux, uy)\n",
    "tuple_v = (vx, vy)\n",
    "\n",
    "type(tuple_u[0])\n",
    "\n",
    "def dist(tuple_a, tuple_b):\n",
    "    distance = math.sqrt((float(tuple_a[0])-float(tuple_b[0]))**2 + (float(tuple_a[1])-float(tuple_b[1]))**2)\n",
    "    return distance\n",
    "\n",
    "distance = dist(tuple_u, tuple_v)\n",
    "\n",
    "print(distance)\n"
   ]
  },
  {
   "cell_type": "markdown",
   "metadata": {},
   "source": [
    "4\\. Counting letters\n",
    "\n",
    "Write a program to calculate the number of times each character occurs in a given string *s*. Ignore differneces in capitalization"
   ]
  },
  {
   "cell_type": "code",
   "execution_count": 33,
   "metadata": {},
   "outputs": [],
   "source": [
    "s=\"Write a program that prints the numbers from 1 to 100. \\\n",
    "But for multiples of three print Mickey instead of the number and for the multiples of five print Mouse. \\\n",
    "For numbers which are multiples of both three and five print MickeyMouse\""
   ]
  },
  {
   "cell_type": "code",
   "execution_count": 86,
   "metadata": {
    "scrolled": true
   },
   "outputs": [
    {
     "name": "stdout",
     "output_type": "stream",
     "text": [
      "write a program that prints the numbers from 1 to 100. but for multiples of three print mickey instead of the number and for the multiples of five print mouse. for numbers which are multiples of both three and five print mickeymouse\n",
      "[' ', ' ', ' ', ' ', ' ', ' ', ' ', ' ', ' ', ' ', ' ', ' ', ' ', ' ', ' ', ' ', ' ', ' ', ' ', ' ', ' ', ' ', ' ', ' ', ' ', ' ', ' ', ' ', ' ', ' ', ' ', ' ', ' ', ' ', ' ', ' ', ' ', ' ', ' ', ' ', ' ', '.', '.', '0', '0', '1', '1', 'a', 'a', 'a', 'a', 'a', 'a', 'a', 'b', 'b', 'b', 'b', 'b', 'c', 'c', 'c', 'd', 'd', 'd', 'e', 'e', 'e', 'e', 'e', 'e', 'e', 'e', 'e', 'e', 'e', 'e', 'e', 'e', 'e', 'e', 'e', 'e', 'e', 'e', 'e', 'e', 'f', 'f', 'f', 'f', 'f', 'f', 'f', 'f', 'f', 'f', 'g', 'h', 'h', 'h', 'h', 'h', 'h', 'h', 'h', 'h', 'i', 'i', 'i', 'i', 'i', 'i', 'i', 'i', 'i', 'i', 'i', 'i', 'i', 'i', 'k', 'k', 'l', 'l', 'l', 'l', 'l', 'l', 'm', 'm', 'm', 'm', 'm', 'm', 'm', 'm', 'm', 'm', 'm', 'm', 'n', 'n', 'n', 'n', 'n', 'n', 'n', 'n', 'n', 'n', 'o', 'o', 'o', 'o', 'o', 'o', 'o', 'o', 'o', 'o', 'o', 'o', 'o', 'p', 'p', 'p', 'p', 'p', 'p', 'p', 'p', 'r', 'r', 'r', 'r', 'r', 'r', 'r', 'r', 'r', 'r', 'r', 'r', 'r', 'r', 'r', 'r', 'r', 's', 's', 's', 's', 's', 's', 's', 's', 's', 't', 't', 't', 't', 't', 't', 't', 't', 't', 't', 't', 't', 't', 't', 't', 't', 't', 't', 't', 'u', 'u', 'u', 'u', 'u', 'u', 'u', 'u', 'u', 'v', 'v', 'w', 'w', 'y', 'y']\n",
      "  appears 41 times\n",
      ". appears 2 times\n",
      "0 appears 2 times\n",
      "1 appears 2 times\n",
      "a appears 7 times\n",
      "b appears 5 times\n",
      "c appears 3 times\n",
      "d appears 3 times\n",
      "e appears 22 times\n",
      "f appears 10 times\n",
      "g appears 1 times\n",
      "h appears 9 times\n",
      "i appears 14 times\n",
      "k appears 2 times\n",
      "l appears 6 times\n",
      "m appears 12 times\n",
      "n appears 10 times\n",
      "o appears 13 times\n",
      "p appears 8 times\n",
      "r appears 17 times\n",
      "s appears 9 times\n",
      "t appears 19 times\n",
      "u appears 9 times\n",
      "v appears 2 times\n",
      "w appears 2 times\n",
      "y appears 2 times\n"
     ]
    }
   ],
   "source": [
    "#remember strings are lists\n",
    "low= s.lower()\n",
    "print(low)\n",
    "\n",
    "characters = [x for x in low]\n",
    "characters.sort()\n",
    "print(characters)\n",
    "\n",
    "#characters = ''.join(characters)\n",
    "#print(characters.count('a'))\n",
    "\n",
    "for i in range(0,len(characters)):\n",
    "    if characters[i] != characters[i-1]:\n",
    "        count = characters.count(characters[i])\n",
    "        string = characters[i] + \" appears %i times\"\n",
    "        print(string % count)\n",
    "    else: \n",
    "        pass\n",
    "    \n",
    "    \n",
    "\n"
   ]
  },
  {
   "cell_type": "markdown",
   "metadata": {},
   "source": [
    "5\\. Isolating the unique\n",
    "\n",
    "Write a function that determines and count the unique numbers in the list *l*"
   ]
  },
  {
   "cell_type": "code",
   "execution_count": 20,
   "metadata": {},
   "outputs": [
    {
     "name": "stdout",
     "output_type": "stream",
     "text": [
      "[1, 3, 3, 5, 8, 9, 10, 16, 18, 19, 20, 20, 20, 24, 30, 31, 31, 33, 34, 34, 36, 36, 36, 37, 39, 41, 42, 42, 45, 45, 45, 47, 50, 50, 51, 51, 51, 53, 54, 55, 56, 56, 57, 58, 63, 63, 64, 66, 66, 70, 70, 70, 72, 74, 75, 79, 81, 82, 84, 84, 84, 84, 85, 85, 85, 86, 87, 88, 89, 89, 90, 91, 91, 91, 92, 94, 95, 96, 98, 99]\n",
      "1 appears 1 times\n",
      "3 appears 2 times\n",
      "5 appears 1 times\n",
      "8 appears 1 times\n",
      "9 appears 1 times\n",
      "10 appears 1 times\n",
      "16 appears 1 times\n",
      "18 appears 1 times\n",
      "19 appears 1 times\n",
      "20 appears 3 times\n",
      "24 appears 1 times\n",
      "30 appears 1 times\n",
      "31 appears 2 times\n",
      "33 appears 1 times\n",
      "34 appears 2 times\n",
      "36 appears 3 times\n",
      "37 appears 1 times\n",
      "39 appears 1 times\n",
      "41 appears 1 times\n",
      "42 appears 2 times\n",
      "45 appears 3 times\n",
      "47 appears 1 times\n",
      "50 appears 2 times\n",
      "51 appears 3 times\n",
      "53 appears 1 times\n",
      "54 appears 1 times\n",
      "55 appears 1 times\n",
      "56 appears 2 times\n",
      "57 appears 1 times\n",
      "58 appears 1 times\n",
      "63 appears 2 times\n",
      "64 appears 1 times\n",
      "66 appears 2 times\n",
      "70 appears 3 times\n",
      "72 appears 1 times\n",
      "74 appears 1 times\n",
      "75 appears 1 times\n",
      "79 appears 1 times\n",
      "81 appears 1 times\n",
      "82 appears 1 times\n",
      "84 appears 4 times\n",
      "85 appears 3 times\n",
      "86 appears 1 times\n",
      "87 appears 1 times\n",
      "88 appears 1 times\n",
      "89 appears 2 times\n",
      "90 appears 1 times\n",
      "91 appears 3 times\n",
      "92 appears 1 times\n",
      "94 appears 1 times\n",
      "95 appears 1 times\n",
      "96 appears 1 times\n",
      "98 appears 1 times\n",
      "99 appears 1 times\n"
     ]
    }
   ],
   "source": [
    "l = [36, 45, 58, 3, 74, 96, 64, 45, 31, 10, 24, 19, 33, 86, 99, 18, 63, 70, 85,\n",
    " 85, 63, 47, 56, 42, 70, 84, 88, 55, 20, 54, 8, 56, 51, 79, 81, 57, 37, 91,\n",
    " 1, 84, 84, 36, 66, 9, 89, 50, 42, 91, 50, 95, 90, 98, 39, 16, 82, 31, 92, 41,\n",
    " 45, 30, 66, 70, 34, 85, 94, 5, 3, 36, 72, 91, 84, 34, 87, 75, 53, 51, 20, 89, 51, 20]\n",
    "\n",
    "#vedi sopra\n",
    "#print(type(l))\n",
    "\n",
    "l.sort()\n",
    "print(l)\n",
    "\n",
    "for i in range(0,len(l)):\n",
    "    if l[i] != l[i-1]:\n",
    "        count = l.count(l[i])\n",
    "        string = str(l[i]) + \" appears %i times\"\n",
    "        print(string % count)\n",
    "    else: \n",
    "        pass\n"
   ]
  },
  {
   "cell_type": "markdown",
   "metadata": {},
   "source": [
    "6\\. Combination of functions\n",
    "\n",
    "Write two functions - one that returns the square of a number, and one that returns the cube. Now write a third function that returns the number raised to the 6th power using the two previous functions."
   ]
  },
  {
   "cell_type": "code",
   "execution_count": 35,
   "metadata": {},
   "outputs": [
    {
     "name": "stdout",
     "output_type": "stream",
     "text": [
      "choose a number to calculate the sixth power: 1000000000000000000000000000000\n",
      "1.0000000000000001e+60 1.0000000000000002e+90 1.0000000000000004e+180\n"
     ]
    }
   ],
   "source": [
    "#functions are read before the code! No need to define in order!\n",
    "\n",
    "def sixth(c):\n",
    "    d = square(cube(c))\n",
    "    return d\n",
    "\n",
    "def square(a):\n",
    "    return a*a\n",
    "\n",
    "def cube(b):\n",
    "    return b*b*b\n",
    "\n",
    "x = input(\"choose a number to calculate the sixth power: \")\n",
    "\n",
    "x = float(x)\n",
    "\n",
    "print(square(x), cube(x), sixth(x))"
   ]
  },
  {
   "cell_type": "markdown",
   "metadata": {},
   "source": [
    "7\\. Cubes\n",
    "\n",
    "Create a list of the cubes of x for x in *[0, 10]* using:\n",
    "\n",
    "a) a for loop\n",
    "\n",
    "b) a list comprehension"
   ]
  },
  {
   "cell_type": "code",
   "execution_count": 44,
   "metadata": {},
   "outputs": [
    {
     "name": "stdout",
     "output_type": "stream",
     "text": [
      "[0, 1, 8, 27, 64, 125, 216, 343, 512, 729, 1000]\n",
      "[0, 1, 8, 27, 64, 125, 216, 343, 512, 729, 1000]\n"
     ]
    }
   ],
   "source": [
    "cubes1 = []\n",
    "for x in range(0,11):\n",
    "    cubes1.append(x*x*x)\n",
    "    \n",
    "print(cubes1)    \n",
    "\n",
    "cubes2 = [x*x*x for x in range(0,11)]\n",
    "\n",
    "type(cubes2)\n",
    "print(cubes2)\n",
    "#%time"
   ]
  },
  {
   "cell_type": "markdown",
   "metadata": {},
   "source": [
    "8\\. Nested list comprehension\n",
    "\n",
    "A Pythagorean triple is an integer solution to the Pythagorean theorem $a^2+b^2=c^2$. The first Pythagorean triple is (3,4,5). Find and put in a tuple all unique Pythagorean triples for the positive integers a, b and c less than 100."
   ]
  },
  {
   "cell_type": "code",
   "execution_count": 3,
   "metadata": {
    "scrolled": false
   },
   "outputs": [
    {
     "name": "stdout",
     "output_type": "stream",
     "text": [
      "[(3, 4, 5), (5, 12, 13), (6, 8, 10), (7, 24, 25), (8, 15, 17), (9, 12, 15), (9, 40, 41), (10, 24, 26), (11, 60, 61), (12, 16, 20), (12, 35, 37), (13, 84, 85), (14, 48, 50), (15, 20, 25), (15, 36, 39), (16, 30, 34), (16, 63, 65), (18, 24, 30), (18, 80, 82), (20, 21, 29), (20, 48, 52), (21, 28, 35), (21, 72, 75), (24, 32, 40), (24, 45, 51), (24, 70, 74), (25, 60, 65), (27, 36, 45), (28, 45, 53), (30, 40, 50), (30, 72, 78), (32, 60, 68), (33, 44, 55), (33, 56, 65), (35, 84, 91), (36, 48, 60), (36, 77, 85), (39, 52, 65), (39, 80, 89), (40, 42, 58), (40, 75, 85), (42, 56, 70), (45, 60, 75), (48, 55, 73), (48, 64, 80), (51, 68, 85), (54, 72, 90), (57, 76, 95), (60, 63, 87), (65, 72, 97)]\n",
      "(3, 4, 5, 5, 12, 13, 6, 8, 10, 7, 24, 25, 8, 15, 17, 9, 12, 15, 9, 40, 41, 10, 24, 26, 11, 60, 61, 12, 16, 20, 12, 35, 37, 13, 84, 85, 14, 48, 50, 15, 20, 25, 15, 36, 39, 16, 30, 34, 16, 63, 65, 18, 24, 30, 18, 80, 82, 20, 21, 29, 20, 48, 52, 21, 28, 35, 21, 72, 75, 24, 32, 40, 24, 45, 51, 24, 70, 74, 25, 60, 65, 27, 36, 45, 28, 45, 53, 30, 40, 50, 30, 72, 78, 32, 60, 68, 33, 44, 55, 33, 56, 65, 35, 84, 91, 36, 48, 60, 36, 77, 85, 39, 52, 65, 39, 80, 89, 40, 42, 58, 40, 75, 85, 42, 56, 70, 45, 60, 75, 48, 55, 73, 48, 64, 80, 51, 68, 85, 54, 72, 90, 57, 76, 95, 60, 63, 87, 65, 72, 97)\n",
      "<generator object <genexpr> at 0x7f034d1fa110>\n",
      "[(3, 4, 5), (5, 12, 13), (6, 8, 10), (7, 24, 25), (8, 15, 17), (9, 12, 15), (9, 40, 41), (10, 24, 26), (11, 60, 61), (12, 16, 20), (12, 35, 37), (13, 84, 85), (14, 48, 50), (15, 20, 25), (15, 36, 39), (16, 30, 34), (16, 63, 65), (18, 24, 30), (18, 80, 82), (20, 21, 29), (20, 48, 52), (21, 28, 35), (21, 72, 75), (24, 32, 40), (24, 45, 51), (24, 70, 74), (25, 60, 65), (27, 36, 45), (28, 45, 53), (30, 40, 50), (30, 72, 78), (32, 60, 68), (33, 44, 55), (33, 56, 65), (35, 84, 91), (36, 48, 60), (36, 77, 85), (39, 52, 65), (39, 80, 89), (40, 42, 58), (40, 75, 85), (42, 56, 70), (45, 60, 75), (48, 55, 73), (48, 64, 80), (51, 68, 85), (54, 72, 90), (57, 76, 95), (60, 63, 87), (65, 72, 97)]\n",
      "[5, 6, 7, 8]\n"
     ]
    },
    {
     "data": {
      "text/plain": [
       "[[1, 5, 9], [2, 6, 10], [3, 7, 11], [4, 8, 12]]"
      ]
     },
     "execution_count": 3,
     "metadata": {},
     "output_type": "execute_result"
    }
   ],
   "source": [
    "#for loop\n",
    "\n",
    "py_list = []\n",
    "py_tuple = ()\n",
    "for a in range(1,100):\n",
    "    for b in range(a,100):\n",
    "        for c in range(b,100):\n",
    "            if (a*a + b*b == c*c):\n",
    "                py_list.append((a,b,c))\n",
    "                py_tuple = py_tuple + (a,b,c)\n",
    "print(py_list)            \n",
    "print(py_tuple)\n",
    "\n",
    "#list comprehension\n",
    "mytuple = (x for x in range(1,10))\n",
    "print(mytuple)\n",
    "\n",
    "cube_list = [(a,b,c) for a in range(1,100) for b in range(1,100) for c in range(1,100) if (a<b and a*a+b*b==c*c)]\n",
    "print(cube_list)\n",
    "\n",
    "#nested list comprehension\n",
    "\n",
    "new_cubes = []\n",
    "\n",
    "\n",
    "#example of list comprehension\n",
    "matrix = [\n",
    "    [1, 2, 3, 4],\n",
    "    [5, 6, 7, 8],\n",
    "    [9, 10, 11, 12],\n",
    "]\n",
    "\n",
    "print(matrix[1])\n",
    "\n",
    "[[row[i] for row in matrix] for i in range(4)]"
   ]
  },
  {
   "cell_type": "markdown",
   "metadata": {},
   "source": [
    "9\\. Normalization\n",
    "\n",
    "Write a function that takes a tuple of numbers and returns it with the entries normalized to one"
   ]
  },
  {
   "cell_type": "code",
   "execution_count": 21,
   "metadata": {},
   "outputs": [
    {
     "name": "stdout",
     "output_type": "stream",
     "text": [
      "(3, 4, 5, 5, 12, 13, 6, 8, 10, 7, 24, 25, 8, 15, 17, 9, 12, 15, 9, 40, 41, 10, 24, 26, 11, 60, 61, 12, 16, 20, 12, 35, 37, 13, 84, 85, 14, 48, 50, 15, 20, 25, 15, 36, 39, 16, 30, 34, 16, 63, 65, 18, 24, 30, 18, 80, 82, 20, 21, 29, 20, 48, 52, 21, 28, 35, 21, 72, 75, 24, 32, 40, 24, 45, 51, 24, 70, 74, 25, 60, 65, 27, 36, 45, 28, 45, 53, 30, 40, 50, 30, 72, 78, 32, 60, 68, 33, 44, 55, 33, 56, 65, 35, 84, 91, 36, 48, 60, 36, 77, 85, 39, 52, 65, 39, 80, 89, 40, 42, 58, 40, 75, 85, 42, 56, 70, 45, 60, 75, 48, 55, 73, 48, 64, 80, 51, 68, 85, 54, 72, 90, 57, 76, 95, 60, 63, 87, 65, 72, 97)\n"
     ]
    },
    {
     "data": {
      "text/plain": [
       "[7.92945952803857e-06,\n",
       " 1.0572612704051425e-05,\n",
       " 1.3215765880064282e-05,\n",
       " 1.3215765880064282e-05,\n",
       " 3.171783811215428e-05,\n",
       " 3.4360991288167135e-05,\n",
       " 1.585891905607714e-05,\n",
       " 2.114522540810285e-05,\n",
       " 2.6431531760128564e-05,\n",
       " 1.8502072232089993e-05,\n",
       " 6.343567622430856e-05,\n",
       " 6.607882940032141e-05,\n",
       " 2.114522540810285e-05,\n",
       " 3.964729764019284e-05,\n",
       " 4.4933603992218556e-05,\n",
       " 2.3788378584115707e-05,\n",
       " 3.171783811215428e-05,\n",
       " 3.964729764019284e-05,\n",
       " 2.3788378584115707e-05,\n",
       " 0.00010572612704051425,\n",
       " 0.00010836928021652711,\n",
       " 2.6431531760128564e-05,\n",
       " 6.343567622430856e-05,\n",
       " 6.872198257633427e-05,\n",
       " 2.907468493614142e-05,\n",
       " 0.00015858919056077137,\n",
       " 0.00016123234373678424,\n",
       " 3.171783811215428e-05,\n",
       " 4.22904508162057e-05,\n",
       " 5.286306352025713e-05,\n",
       " 3.171783811215428e-05,\n",
       " 9.251036116044997e-05,\n",
       " 9.779666751247568e-05,\n",
       " 3.4360991288167135e-05,\n",
       " 0.00022202486678507994,\n",
       " 0.00022466801996109278,\n",
       " 3.7004144464179985e-05,\n",
       " 0.0001268713524486171,\n",
       " 0.00013215765880064282,\n",
       " 3.964729764019284e-05,\n",
       " 5.286306352025713e-05,\n",
       " 6.607882940032141e-05,\n",
       " 3.964729764019284e-05,\n",
       " 9.515351433646283e-05,\n",
       " 0.0001030829738645014,\n",
       " 4.22904508162057e-05,\n",
       " 7.929459528038568e-05,\n",
       " 8.986720798443711e-05,\n",
       " 4.22904508162057e-05,\n",
       " 0.00016651865008880995,\n",
       " 0.00017180495644083567,\n",
       " 4.757675716823141e-05,\n",
       " 6.343567622430856e-05,\n",
       " 7.929459528038568e-05,\n",
       " 4.757675716823141e-05,\n",
       " 0.0002114522540810285,\n",
       " 0.00021673856043305422,\n",
       " 5.286306352025713e-05,\n",
       " 5.5506216696269984e-05,\n",
       " 7.665144210437283e-05,\n",
       " 5.286306352025713e-05,\n",
       " 0.0001268713524486171,\n",
       " 0.00013744396515266854,\n",
       " 5.5506216696269984e-05,\n",
       " 7.400828892835997e-05,\n",
       " 9.251036116044997e-05,\n",
       " 5.5506216696269984e-05,\n",
       " 0.00019030702867292565,\n",
       " 0.0001982364882009642,\n",
       " 6.343567622430856e-05,\n",
       " 8.45809016324114e-05,\n",
       " 0.00010572612704051425,\n",
       " 6.343567622430856e-05,\n",
       " 0.00011894189292057854,\n",
       " 0.00013480081197665567,\n",
       " 6.343567622430856e-05,\n",
       " 0.00018502072232089994,\n",
       " 0.00019559333502495137,\n",
       " 6.607882940032141e-05,\n",
       " 0.00015858919056077137,\n",
       " 0.00017180495644083567,\n",
       " 7.136513575234713e-05,\n",
       " 9.515351433646283e-05,\n",
       " 0.00011894189292057854,\n",
       " 7.400828892835997e-05,\n",
       " 0.00011894189292057854,\n",
       " 0.00014008711832868138,\n",
       " 7.929459528038568e-05,\n",
       " 0.00010572612704051425,\n",
       " 0.00013215765880064282,\n",
       " 7.929459528038568e-05,\n",
       " 0.00019030702867292565,\n",
       " 0.0002061659477290028,\n",
       " 8.45809016324114e-05,\n",
       " 0.00015858919056077137,\n",
       " 0.00017973441596887422,\n",
       " 8.722405480842426e-05,\n",
       " 0.00011629873974456568,\n",
       " 0.0001453734246807071,\n",
       " 8.722405480842426e-05,\n",
       " 0.00014801657785671994,\n",
       " 0.00017180495644083567,\n",
       " 9.251036116044997e-05,\n",
       " 0.00022202486678507994,\n",
       " 0.00024052693901716992,\n",
       " 9.515351433646283e-05,\n",
       " 0.0001268713524486171,\n",
       " 0.00015858919056077137,\n",
       " 9.515351433646283e-05,\n",
       " 0.00020352279455298992,\n",
       " 0.00022466801996109278,\n",
       " 0.0001030829738645014,\n",
       " 0.00013744396515266854,\n",
       " 0.00017180495644083567,\n",
       " 0.0001030829738645014,\n",
       " 0.0002114522540810285,\n",
       " 0.0002352406326651442,\n",
       " 0.00010572612704051425,\n",
       " 0.00011101243339253997,\n",
       " 0.00015330288420874565,\n",
       " 0.00010572612704051425,\n",
       " 0.0001982364882009642,\n",
       " 0.00022466801996109278,\n",
       " 0.00011101243339253997,\n",
       " 0.00014801657785671994,\n",
       " 0.00018502072232089994,\n",
       " 0.00011894189292057854,\n",
       " 0.00015858919056077137,\n",
       " 0.0001982364882009642,\n",
       " 0.0001268713524486171,\n",
       " 0.0001453734246807071,\n",
       " 0.0001929501818489385,\n",
       " 0.0001268713524486171,\n",
       " 0.0001691618032648228,\n",
       " 0.0002114522540810285,\n",
       " 0.00013480081197665567,\n",
       " 0.00017973441596887422,\n",
       " 0.00022466801996109278,\n",
       " 0.00014273027150469425,\n",
       " 0.00019030702867292565,\n",
       " 0.00023788378584115708,\n",
       " 0.0001506597310327328,\n",
       " 0.00020087964137697708,\n",
       " 0.00025109955172122135,\n",
       " 0.00015858919056077137,\n",
       " 0.00016651865008880995,\n",
       " 0.0002299543263131185,\n",
       " 0.00017180495644083567,\n",
       " 0.00019030702867292565,\n",
       " 0.00025638585807324704]"
      ]
     },
     "execution_count": 21,
     "metadata": {},
     "output_type": "execute_result"
    }
   ],
   "source": [
    "import math as m\n",
    "\n",
    "print(py_tuple)\n",
    "\n",
    "def normalize(my_tuple):\n",
    "    norm = 0\n",
    "    is_a_list = list(my_tuple)\n",
    "    for i in range(0,len(is_a_list)):\n",
    "        norm += is_a_list[i]**2\n",
    "    for i in range(0,len(is_a_list)):\n",
    "        is_a_list[i] = is_a_list[i]/norm\n",
    "        tuple(is_a_list)\n",
    "    return is_a_list\n",
    "\n",
    "normalize(py_tuple)\n",
    "        "
   ]
  },
  {
   "cell_type": "code",
   "execution_count": null,
   "metadata": {},
   "outputs": [],
   "source": []
  }
 ],
 "metadata": {
  "kernelspec": {
   "display_name": "Python 3 (ipykernel)",
   "language": "python",
   "name": "python3"
  },
  "language_info": {
   "codemirror_mode": {
    "name": "ipython",
    "version": 3
   },
   "file_extension": ".py",
   "mimetype": "text/x-python",
   "name": "python",
   "nbconvert_exporter": "python",
   "pygments_lexer": "ipython3",
   "version": "3.10.6"
  }
 },
 "nbformat": 4,
 "nbformat_minor": 2
}
