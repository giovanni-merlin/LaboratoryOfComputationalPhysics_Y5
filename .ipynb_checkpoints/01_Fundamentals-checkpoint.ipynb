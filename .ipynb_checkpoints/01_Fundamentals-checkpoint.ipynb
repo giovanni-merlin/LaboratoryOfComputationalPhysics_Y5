{
 "cells": [
  {
   "cell_type": "markdown",
   "metadata": {},
   "source": [
    "# Modules/packages/libraries\n",
    "\n",
    "Definitions:\n",
    "\n",
    "  * Modules:\n",
    "  A module is a file which contains python functions, global variables etc. It is nothing but .py file which has python executable code / statement.\n",
    "\n",
    "  * Packages:\n",
    "  A package is a namespace which contains multiple package/modules. It is a directory which contains a special file `__init__.py`\n",
    "  \n",
    "  * Libraries:\n",
    "  A library is a collection of various packages. There is no difference between package and python library conceptually.\n",
    "  \n",
    "Modules/packages/libraries can be easily \"imported\" and made functional in your python code. A set of libriaries comes with every python installation. Others can be installed locally and then imported. Your own code sitting somewhere else in your local computer can be imported too.\n",
    "\n",
    "Further details (very important!) on packages and how to create them can be found online. We may find the need of creating our own during the course."
   ]
  },
  {
   "cell_type": "code",
   "execution_count": 16,
   "metadata": {},
   "outputs": [
    {
     "name": "stdout",
     "output_type": "stream",
     "text": [
      "3.141592653589793\n",
      "3.141592653589793\n",
      "3.141592653589793\n",
      "2.6457513110645907\n"
     ]
    }
   ],
   "source": [
    "###### all the \"stuff\" that is in the math library can be used\n",
    "import math\n",
    "print(math.pi)\n",
    "\n",
    "# you can give math a label for convenience\n",
    "import math as m\n",
    "print (m.pi)\n",
    "\n",
    "# alternatively you can import only a given \"thing\" from the library\n",
    "from math import pi    #you can add several libraries at once, just list them separated by a \", \"\n",
    "print (pi)\n",
    "\n",
    "# or just get everything (very dangerous!!!)\n",
    "#not using che .ref but might conflict with your names already def\n",
    "from math import *\n",
    "print (sqrt(7))"
   ]
  },
  {
   "cell_type": "markdown",
   "metadata": {},
   "source": [
    "To know which modules are there for you to use just type:"
   ]
  },
  {
   "cell_type": "code",
   "execution_count": 17,
   "metadata": {},
   "outputs": [
    {
     "name": "stdout",
     "output_type": "stream",
     "text": [
      "\n",
      "Please wait a moment while I gather a list of all available modules...\n",
      "\n"
     ]
    },
    {
     "name": "stderr",
     "output_type": "stream",
     "text": [
      "/usr/lib/python3/dist-packages/IPython/kernel/__init__.py:12: ShimWarning: The `IPython.kernel` package has been deprecated since IPython 4.0.You should import from ipykernel or jupyter_client instead.\n",
      "  warn(\"The `IPython.kernel` package has been deprecated since IPython 4.0.\"\n"
     ]
    },
    {
     "name": "stdout",
     "output_type": "stream",
     "text": [
      "AptUrl              audioop             isympy              reprlib\n",
      "CommandNotFound     autoreload          itertools           requests\n",
      "Cryptodome          babel               janitor             requests_toolbelt\n",
      "DistUpgrade         backcall            jedi                resource\n",
      "HweSupportStatus    base64              jeepney             rlcompleter\n",
      "IPython             bcrypt              jinja2              rmagic\n",
      "LanguageSelector    bdb                 joblib              routes\n",
      "NvidiaDetector      beniget             json                runpy\n",
      "PIL                 binascii            jsonschema          scanext\n",
      "PyQt5               binhex              jupyter             sched\n",
      "Quirks              bisect              jupyter_client      scipy\n",
      "SSSDConfig          bleach              jupyter_core        scour\n",
      "UbuntuDrivers       blinker             jupyterlab_pygments seaborn\n",
      "UpdateManager       bokeh               jwt                 secrets\n",
      "__future__          brlapi              keyring             secretstorage\n",
      "_abc                brotli              keyword             select\n",
      "_aix_support        bs4                 kiwisolver          selectors\n",
      "_ast                builtins            language_support_pkgs send2trash\n",
      "_asyncio            bz2                 launchpadlib        setuptools\n",
      "_bisect             cProfile            ldb                 sgmllib\n",
      "_blake2             cairo               lib2to3             shelve\n",
      "_bootsubprocess     calendar            libfuturize         shlex\n",
      "_brotli             certifi             libpasteurize       shutil\n",
      "_bz2                cgi                 linecache           signal\n",
      "_cffi_backend       cgitb               locale              site\n",
      "_codecs             chardet             lockfile            sitecustomize\n",
      "_codecs_cn          chm                 logging             six\n",
      "_codecs_hk          chunk               louis               sklearn\n",
      "_codecs_iso2022     click               lsb_release         smtpd\n",
      "_codecs_jp          cmath               lxml                smtplib\n",
      "_codecs_kr          cmd                 lz4                 sndhdr\n",
      "_codecs_tw          code                lzma                socket\n",
      "_collections        codecs              macaroonbakery      socketserver\n",
      "_collections_abc    codeop              mailbox             softwareproperties\n",
      "_compat_pickle      collections         mailcap             soupsieve\n",
      "_compression        colorama            mako                speechd\n",
      "_contextvars        colorsys            markdown            speechd_config\n",
      "_crypt              compileall          markupsafe          spwd\n",
      "_csv                concurrent          marshal             sqlite3\n",
      "_ctypes             configparser        math                sre_compile\n",
      "_ctypes_test        contextlib          matplotlib          sre_constants\n",
      "_curses             contextvars         matplotlib_inline   sre_parse\n",
      "_curses_panel       contourpy           mechanize           ssl\n",
      "_datetime           copy                mimetypes           stat\n",
      "_dbm                copyreg             mmap                statistics\n",
      "_dbus_bindings      crypt               modulefinder        storemagic\n",
      "_dbus_glib_bindings cryptography        monotonic           string\n",
      "_decimal            css_parser          more_itertools      stringprep\n",
      "_distutils_hack     cssselect           mpl_toolkits        struct\n",
      "_distutils_system_mod cssutils            mpmath              subprocess\n",
      "_elementtree        csv                 msgpack             sunau\n",
      "_functools          ctypes              multiprocessing     sympy\n",
      "_gdbm               cups                nacl                sympyprinting\n",
      "_hashlib            cupsext             nbclient            symtable\n",
      "_heapq              cupshelpers         nbconvert           sys\n",
      "_imp                curses              nbformat            sysconfig\n",
      "_io                 cycler              nest_asyncio        syslog\n",
      "_json               cythonmagic         netifaces           systemd\n",
      "_ldb_text           dataclasses         netrc               tabnanny\n",
      "_locale             datetime            nis                 talloc\n",
      "_lsprof             dateutil            nntplib             tarfile\n",
      "_lzma               dbm                 notebook            telnetlib\n",
      "_markupbase         dbus                ntpath              tempfile\n",
      "_md5                deb822              nturl2path          terminado\n",
      "_multibytecodec     debconf             numbers             termios\n",
      "_multiprocessing    debian              numpy               test\n",
      "_opcode             debian_bundle       oauthlib            testpath\n",
      "_operator           decimal             olefile             tests\n",
      "_osx_support        decorator           omp                 texttable\n",
      "_pickle             defer               opcode              textwrap\n",
      "_posixshmem         defusedxml          operator            this\n",
      "_posixsubprocess    difflib             optparse            threading\n",
      "_py_abc             dis                 orca                threadpoolctl\n",
      "_pydecimal          distro              os                  time\n",
      "_pyio               distro_info         ossaudiodev         timeit\n",
      "_pyrsistent_version distutils           packaging           tkinter\n",
      "_queue              dns                 pandas              token\n",
      "_random             doctest             pandocfilters       tokenize\n",
      "_sha1               duplicity           paramiko            tornado\n",
      "_sha256             email               parso               trace\n",
      "_sha3               encodings           past                traceback\n",
      "_sha512             encutils            pathlib             tracemalloc\n",
      "_signal             entrypoints         pcardext            traitlets\n",
      "_sitebuiltins       enum                pdb                 tty\n",
      "_socket             errno               pexpect             turtle\n",
      "_sqlite3            fasteners           pickle              types\n",
      "_sre                faulthandler        pickleshare         typing\n",
      "_ssl                fcntl               pickletools         uaclient\n",
      "_stat               feedparser          pip                 ufoLib2\n",
      "_statistics         filecmp             pipes               ufw\n",
      "_string             fileinput           pkg_resources       unicodedata\n",
      "_strptime           fnmatch             pkgutil             unicodedata2\n",
      "_struct             fontTools           platform            unittest\n",
      "_symtable           fractions           plistlib            uno\n",
      "_sysconfigdata__linux_x86_64-linux-gnu fs                  ply                 unohelper\n",
      "_sysconfigdata__x86_64-linux-gnu ftplib              poplib              urllib\n",
      "_testbuffer         function            posix               urllib3\n",
      "_testcapi           functools           posixpath           usbcreator\n",
      "_testimportmultiple future              pprint              uu\n",
      "_testinternalcapi   gast                problem_report      uuid\n",
      "_testmultiphase     gc                  profile             venv\n",
      "_thread             genericpath         prometheus_client   wadllib\n",
      "_threading_local    getopt              prompt_toolkit      warnings\n",
      "_tkinter            getpass             pstats              wave\n",
      "_tracemalloc        gettext             pty                 wcwidth\n",
      "_uuid               gi                  ptyprocess          weakref\n",
      "_warnings           glob                pvectorc            webbrowser\n",
      "_weakref            graphlib            pwd                 webencodings\n",
      "_weakrefset         grp                 py                  webob\n",
      "_xxsubinterpreters  gzip                py7zr               wheel\n",
      "_xxtestfuzz         hashlib             py_compile          widgetsnbextension\n",
      "_yaml               heapq               pyatspi             wsgiref\n",
      "_zoneinfo           hmac                pyclbr              xdg\n",
      "abc                 hpmudext            pydoc               xdrlib\n",
      "aifc                html                pydoc_data          xkit\n",
      "antigravity         html2text           pyexpat             xlrd\n",
      "appdirs             html5_parser        pygments            xml\n",
      "apport              html5lib            pygtkcompat         xmlrpc\n",
      "apport_python_hook  http                pylab               xxlimited\n",
      "apsw                httplib2            pymacaroons         xxlimited_35\n",
      "apt                 idna                pyparsing           xxsubtype\n",
      "apt_inst            ifaddr              pyrfc3339           xyzservices\n",
      "apt_pkg             imaplib             pyrsistent          yaml\n",
      "aptdaemon           imghdr              pysss               zeroconf\n",
      "aptsources          imp                 pysss_murmur        zipapp\n",
      "argon2              importlib           pythran             zipfile\n",
      "argparse            importlib_metadata  pytz                zipimport\n",
      "array               inspect             queue               zipp\n",
      "ast                 io                  quopri              zlib\n",
      "asynchat            ipaddress           random              zmq\n",
      "asyncio             ipykernel           re                  zoneinfo\n",
      "asyncore            ipykernel_launcher  readline            \n",
      "atexit              ipython_genutils    regex               \n",
      "attr                ipywidgets          reportlab           \n",
      "\n",
      "Enter any module name to get more help.  Or, type \"modules spam\" to search\n",
      "for modules whose name or summary contain the string \"spam\".\n",
      "\n",
      "None\n"
     ]
    },
    {
     "name": "stderr",
     "output_type": "stream",
     "text": [
      "/usr/lib/python3.10/pkgutil.py:107: VisibleDeprecationWarning: zmq.eventloop.minitornado is deprecated in pyzmq 14.0 and will be removed.\n",
      "    Install tornado itself to use zmq with the tornado IOLoop.\n",
      "    \n",
      "  yield from walk_packages(path, info.name+'.', onerror)\n"
     ]
    }
   ],
   "source": [
    "print (help('modules') )\n"
   ]
  },
  {
   "cell_type": "markdown",
   "metadata": {},
   "source": [
    "`pip` is a special package. It is used from the command line to install properly (e.g. matching the version of the local packages) new packages. It can also be used from within python to check i.e. the set installed packages and their versions. N.B.: only the installed packages on top of the default ones will be listed "
   ]
  },
  {
   "cell_type": "code",
   "execution_count": 18,
   "metadata": {},
   "outputs": [
    {
     "ename": "AttributeError",
     "evalue": "module 'pip._internal.utils.misc' has no attribute 'get_installed_distributions'",
     "output_type": "error",
     "traceback": [
      "\u001b[0;31m---------------------------------------------------------------------------\u001b[0m",
      "\u001b[0;31mAttributeError\u001b[0m                            Traceback (most recent call last)",
      "\u001b[0;32m/tmp/ipykernel_20669/1411100875.py\u001b[0m in \u001b[0;36m<module>\u001b[0;34m\u001b[0m\n\u001b[1;32m      1\u001b[0m \u001b[0;32mimport\u001b[0m \u001b[0mpip\u001b[0m\u001b[0;34m\u001b[0m\u001b[0;34m\u001b[0m\u001b[0m\n\u001b[0;32m----> 2\u001b[0;31m \u001b[0msorted\u001b[0m\u001b[0;34m(\u001b[0m\u001b[0;34m[\u001b[0m\u001b[0;34m\"%s==%s\"\u001b[0m \u001b[0;34m%\u001b[0m \u001b[0;34m(\u001b[0m\u001b[0mi\u001b[0m\u001b[0;34m.\u001b[0m\u001b[0mkey\u001b[0m\u001b[0;34m,\u001b[0m \u001b[0mi\u001b[0m\u001b[0;34m.\u001b[0m\u001b[0mversion\u001b[0m\u001b[0;34m)\u001b[0m \u001b[0;32mfor\u001b[0m \u001b[0mi\u001b[0m \u001b[0;32min\u001b[0m \u001b[0mpip\u001b[0m\u001b[0;34m.\u001b[0m\u001b[0m_internal\u001b[0m\u001b[0;34m.\u001b[0m\u001b[0mutils\u001b[0m\u001b[0;34m.\u001b[0m\u001b[0mmisc\u001b[0m\u001b[0;34m.\u001b[0m\u001b[0mget_installed_distributions\u001b[0m\u001b[0;34m(\u001b[0m\u001b[0;34m)\u001b[0m\u001b[0;34m]\u001b[0m\u001b[0;34m)\u001b[0m\u001b[0;34m\u001b[0m\u001b[0;34m\u001b[0m\u001b[0m\n\u001b[0m",
      "\u001b[0;31mAttributeError\u001b[0m: module 'pip._internal.utils.misc' has no attribute 'get_installed_distributions'"
     ]
    }
   ],
   "source": [
    "import pip\n",
    "sorted([\"%s==%s\" % (i.key, i.version) for i in pip._internal.utils.misc.get_installed_distributions()])"
   ]
  },
  {
   "cell_type": "markdown",
   "metadata": {},
   "source": [
    "# Functions"
   ]
  },
  {
   "cell_type": "code",
   "execution_count": 24,
   "metadata": {},
   "outputs": [
    {
     "name": "stdout",
     "output_type": "stream",
     "text": [
      "9\n",
      "27\n",
      "cube 27\n",
      "square 9\n"
     ]
    }
   ],
   "source": [
    "def square(x):\n",
    "    \"\"\"Square of x.\"\"\"\n",
    "    return x*x\n",
    "\n",
    "def cube(x):\n",
    "    \"\"\"Cube of x.\"\"\"\n",
    "    return x*x*x\n",
    "\n",
    "# create a dictionary of functions\n",
    "funcs = {\n",
    "    'square': square,\n",
    "    'cube': cube,\n",
    "}\n",
    "\n",
    "x = 3\n",
    "print(square(x))\n",
    "print(cube(x))\n",
    "\n",
    "for func in sorted(funcs):\n",
    "    print (func, funcs[func](x))"
   ]
  },
  {
   "cell_type": "markdown",
   "metadata": {},
   "source": [
    "## Functions arguments"
   ]
  },
  {
   "cell_type": "markdown",
   "metadata": {},
   "source": [
    "What is passed to a function is a copy of the input. Imagine we have a list *x =[1, 2, 3]*, i.e. a mutable object. If within the function the content of *x* is directly changed (e.g. *x[0] = 999*), then *x* changes outside the funciton as well. "
   ]
  },
  {
   "cell_type": "code",
   "execution_count": null,
   "metadata": {
    "scrolled": true
   },
   "outputs": [],
   "source": [
    "def modify(x):\n",
    "    x[0] = 999\n",
    "    return x\n",
    "\n",
    "x = [1,2,3]\n",
    "print (x)\n",
    "b = modify(x)\n",
    "print(b)\n",
    "\n",
    "#print (modify(x))\n",
    "print (x)"
   ]
  },
  {
   "cell_type": "markdown",
   "metadata": {},
   "source": [
    "However, if *x* is reassigned within the function to a new object (e.g. another list), then the copy of the name *x* now points to the new object, but *x* outside the function is unhcanged."
   ]
  },
  {
   "cell_type": "code",
   "execution_count": 19,
   "metadata": {},
   "outputs": [
    {
     "name": "stdout",
     "output_type": "stream",
     "text": [
      "[1, 2, 3]\n",
      "[4, 5, 6]\n",
      "[1, 2, 3]\n"
     ]
    }
   ],
   "source": [
    "def no_modify(x):\n",
    "    x = [4,5,6]\n",
    "    return x\n",
    "\n",
    "x = [1,2,3]\n",
    "print (x)\n",
    "print (no_modify(x))\n",
    "print (x)\n"
   ]
  },
  {
   "cell_type": "markdown",
   "metadata": {},
   "source": [
    "What if the function tries to modify the value of an immutable object?"
   ]
  },
  {
   "cell_type": "code",
   "execution_count": 20,
   "metadata": {},
   "outputs": [
    {
     "name": "stdout",
     "output_type": "stream",
     "text": [
      "(0, 1, 2)\n"
     ]
    },
    {
     "ename": "TypeError",
     "evalue": "'tuple' object does not support item assignment",
     "output_type": "error",
     "traceback": [
      "\u001b[0;31m---------------------------------------------------------------------------\u001b[0m",
      "\u001b[0;31mTypeError\u001b[0m                                 Traceback (most recent call last)",
      "\u001b[0;32m/tmp/ipykernel_20669/3587659298.py\u001b[0m in \u001b[0;36m<module>\u001b[0;34m\u001b[0m\n\u001b[1;32m      5\u001b[0m \u001b[0mx\u001b[0m \u001b[0;34m=\u001b[0m \u001b[0;34m(\u001b[0m\u001b[0;36m0\u001b[0m\u001b[0;34m,\u001b[0m\u001b[0;36m1\u001b[0m\u001b[0;34m,\u001b[0m\u001b[0;36m2\u001b[0m\u001b[0;34m)\u001b[0m\u001b[0;34m\u001b[0m\u001b[0;34m\u001b[0m\u001b[0m\n\u001b[1;32m      6\u001b[0m \u001b[0mprint\u001b[0m\u001b[0;34m(\u001b[0m\u001b[0mx\u001b[0m\u001b[0;34m)\u001b[0m\u001b[0;34m\u001b[0m\u001b[0;34m\u001b[0m\u001b[0m\n\u001b[0;32m----> 7\u001b[0;31m \u001b[0mprint\u001b[0m\u001b[0;34m(\u001b[0m\u001b[0mmodify\u001b[0m\u001b[0;34m(\u001b[0m\u001b[0mx\u001b[0m\u001b[0;34m)\u001b[0m\u001b[0;34m)\u001b[0m\u001b[0;34m\u001b[0m\u001b[0;34m\u001b[0m\u001b[0m\n\u001b[0m\u001b[1;32m      8\u001b[0m \u001b[0mprint\u001b[0m\u001b[0;34m(\u001b[0m\u001b[0mx\u001b[0m\u001b[0;34m)\u001b[0m\u001b[0;34m\u001b[0m\u001b[0;34m\u001b[0m\u001b[0m\n",
      "\u001b[0;32m/tmp/ipykernel_20669/3587659298.py\u001b[0m in \u001b[0;36mmodify\u001b[0;34m(x)\u001b[0m\n\u001b[1;32m      1\u001b[0m \u001b[0;32mdef\u001b[0m \u001b[0mmodify\u001b[0m\u001b[0;34m(\u001b[0m\u001b[0mx\u001b[0m\u001b[0;34m)\u001b[0m\u001b[0;34m:\u001b[0m\u001b[0;34m\u001b[0m\u001b[0;34m\u001b[0m\u001b[0m\n\u001b[0;32m----> 2\u001b[0;31m     \u001b[0mx\u001b[0m\u001b[0;34m[\u001b[0m\u001b[0;36m0\u001b[0m\u001b[0;34m]\u001b[0m\u001b[0;34m=\u001b[0m\u001b[0;36m1\u001b[0m\u001b[0;34m\u001b[0m\u001b[0;34m\u001b[0m\u001b[0m\n\u001b[0m\u001b[1;32m      3\u001b[0m     \u001b[0;32mreturn\u001b[0m \u001b[0mx\u001b[0m\u001b[0;34m\u001b[0m\u001b[0;34m\u001b[0m\u001b[0m\n\u001b[1;32m      4\u001b[0m \u001b[0;34m\u001b[0m\u001b[0m\n\u001b[1;32m      5\u001b[0m \u001b[0mx\u001b[0m \u001b[0;34m=\u001b[0m \u001b[0;34m(\u001b[0m\u001b[0;36m0\u001b[0m\u001b[0;34m,\u001b[0m\u001b[0;36m1\u001b[0m\u001b[0;34m,\u001b[0m\u001b[0;36m2\u001b[0m\u001b[0;34m)\u001b[0m\u001b[0;34m\u001b[0m\u001b[0;34m\u001b[0m\u001b[0m\n",
      "\u001b[0;31mTypeError\u001b[0m: 'tuple' object does not support item assignment"
     ]
    }
   ],
   "source": [
    "def modify(x):\n",
    "    x[0]=1\n",
    "    return x\n",
    "\n",
    "x = (0,1,2)\n",
    "print(x)\n",
    "print(modify(x))\n",
    "print(x)"
   ]
  },
  {
   "cell_type": "markdown",
   "metadata": {},
   "source": [
    "Binding of default arguments occurs at function definition:"
   ]
  },
  {
   "cell_type": "code",
   "execution_count": 25,
   "metadata": {},
   "outputs": [
    {
     "name": "stdout",
     "output_type": "stream",
     "text": [
      "[1]\n",
      "[1, 1]\n",
      "[9, 9, 9, 1]\n",
      "[1, 1, 1]\n",
      "[1, 1, 1, 1]\n"
     ]
    }
   ],
   "source": [
    "def f(x = []):\n",
    "    x.append(1)\n",
    "    return x\n",
    "\n",
    "print (f())\n",
    "print (f())\n",
    "print (f(x = [9,9,9]))\n",
    "print (f())\n",
    "print (f())"
   ]
  },
  {
   "cell_type": "markdown",
   "metadata": {},
   "source": [
    "Try to aviod that!!"
   ]
  },
  {
   "cell_type": "code",
   "execution_count": 26,
   "metadata": {},
   "outputs": [
    {
     "name": "stdout",
     "output_type": "stream",
     "text": [
      "[1]\n",
      "[1]\n",
      "[9, 9, 9, 1]\n",
      "[1]\n",
      "[1]\n"
     ]
    }
   ],
   "source": [
    "def f(x = None):\n",
    "    if x is None:\n",
    "        x = []\n",
    "    x.append(1)\n",
    "    return x\n",
    "\n",
    "print (f())\n",
    "print (f())\n",
    "print (f(x = [9,9,9]))\n",
    "print (f())\n",
    "print (f())"
   ]
  },
  {
   "cell_type": "markdown",
   "metadata": {},
   "source": [
    "## Higher order functions\n",
    "\n",
    "A function that uses another function as an input argument or returns a function is known as a higher-order function (HOF). The most familiar examples are `map` and `filter`."
   ]
  },
  {
   "cell_type": "markdown",
   "metadata": {},
   "source": [
    "### map\n",
    "\n",
    "The map function applies a function to each member of a collection"
   ]
  },
  {
   "cell_type": "code",
   "execution_count": 28,
   "metadata": {},
   "outputs": [
    {
     "name": "stdout",
     "output_type": "stream",
     "text": [
      "[0, 1, 4, 9, 16]\n",
      "<map object at 0x7fe9358436a0>\n",
      "<class 'map'>\n",
      "0\n",
      "1\n",
      "4\n",
      "9\n",
      "16\n"
     ]
    },
    {
     "data": {
      "text/plain": [
       "[0, 1, 4, 9, 16, 25]"
      ]
     },
     "execution_count": 28,
     "metadata": {},
     "output_type": "execute_result"
    }
   ],
   "source": [
    "x = list(map(square, range(5))) \n",
    "print (x)\n",
    "\n",
    "x = map(square, range(5))\n",
    "print(x)\n",
    "print(type(x))\n",
    "\n",
    "\n",
    "\n",
    "# Note the difference w.r.t python 2. In python 3 map retuns an iterator so you can do stuff like:\n",
    "for i in map(square,range(5)): print(i)\n",
    "\n",
    "# or\n",
    "[i for i in map(square,range(6))]"
   ]
  },
  {
   "cell_type": "markdown",
   "metadata": {},
   "source": [
    "### filter\n",
    "\n",
    "The filter function applies a predicate to each member of a collection, retaining only those members where the predicate is True"
   ]
  },
  {
   "cell_type": "code",
   "execution_count": null,
   "metadata": {},
   "outputs": [],
   "source": [
    "def is_even(x):\n",
    "    return x%2 == 0 #boolean\n",
    "\n",
    "print (list(filter(is_even, range(5))))"
   ]
  },
  {
   "cell_type": "code",
   "execution_count": null,
   "metadata": {},
   "outputs": [],
   "source": []
  },
  {
   "cell_type": "code",
   "execution_count": null,
   "metadata": {},
   "outputs": [],
   "source": []
  },
  {
   "cell_type": "markdown",
   "metadata": {},
   "source": [
    "Combinations in sequence of HOF are obviously possible"
   ]
  },
  {
   "cell_type": "code",
   "execution_count": null,
   "metadata": {},
   "outputs": [],
   "source": [
    "list(map(square, filter(is_even, range(5))))"
   ]
  },
  {
   "cell_type": "markdown",
   "metadata": {},
   "source": [
    "### reduce\n",
    "\n",
    "The reduce function reduces a collection using a binary operator to combine items two at a time. More often than not reduce can be substituted with a more efficient for loop. It is worth mentioning it for its key role in big-data applications together with map (the map-reduce paradigm). \n",
    "N.B.: it no loger exist as built-in function in python 3, it is now part of the `functools` library"
   ]
  },
  {
   "cell_type": "code",
   "execution_count": null,
   "metadata": {},
   "outputs": [],
   "source": [
    "from functools import reduce\n",
    "\n",
    "def my_add(x, y):\n",
    "    return x + y\n",
    "\n",
    "# another implementation of the sum function\n",
    "reduce(my_add, [1,2,3,4,5])"
   ]
  },
  {
   "cell_type": "markdown",
   "metadata": {},
   "source": [
    "### zip\n",
    "\n",
    "zip is useful when you need to iterate over matched elements of multiple lists"
   ]
  },
  {
   "cell_type": "code",
   "execution_count": 11,
   "metadata": {},
   "outputs": [
    {
     "name": "stdout",
     "output_type": "stream",
     "text": [
      "1 10 a\n",
      "2 20 b\n",
      "3 30 c\n",
      "4 40 d\n",
      "(1, 10, 'a')\n",
      "(2, 20, 'b')\n",
      "(3, 30, 'c')\n",
      "(4, 40, 'd')\n"
     ]
    }
   ],
   "source": [
    "xs = [1, 2, 3, 4]\n",
    "ys = [10, 20, 30, 40]\n",
    "zs = ['a', 'b', 'c', 'd','e']\n",
    "\n",
    "for x, y, z in zip(xs, ys, zs):\n",
    "    print (x, y, z)\n",
    "    \n",
    "xs = [1, 2, 3, 4]\n",
    "ys = [10, 20, 30, 40]\n",
    "zs = ['a', 'b', 'c', 'd','e']\n",
    "\n",
    "for items in zip(xs, ys, zs):\n",
    "    print (items)"
   ]
  },
  {
   "cell_type": "markdown",
   "metadata": {},
   "source": [
    "### Custom HOF"
   ]
  },
  {
   "cell_type": "code",
   "execution_count": null,
   "metadata": {},
   "outputs": [],
   "source": [
    "def custom_sum(xs, transform):\n",
    "    \"\"\"Returns the sum of xs after a user specified transform.\"\"\"\n",
    "    return sum(map(transform, xs))\n",
    "\n",
    "xs = range(5)\n",
    "print (custom_sum(xs, square))\n",
    "print (custom_sum(xs, cube))\n",
    "\n",
    "sum2=0\n",
    "for i in range(5):\n",
    "        sum2 += i**2\n",
    "print(sum2)"
   ]
  },
  {
   "cell_type": "markdown",
   "metadata": {},
   "source": [
    "### Returning a function"
   ]
  },
  {
   "cell_type": "code",
   "execution_count": null,
   "metadata": {},
   "outputs": [],
   "source": [
    "def make_logger(target):\n",
    "    def logger(data):\n",
    "        with open(target, 'a') as f:\n",
    "            f.write(data + '\\n')\n",
    "    return logger\n",
    "\n",
    "foo_logger = make_logger('foo.txt') #foo.txt will be created if not there already\n",
    "foo_logger('Hello')\n",
    "foo_logger('World')"
   ]
  },
  {
   "cell_type": "code",
   "execution_count": null,
   "metadata": {},
   "outputs": [],
   "source": [
    "! cat 'foo.txt'"
   ]
  },
  {
   "cell_type": "markdown",
   "metadata": {},
   "source": [
    "## Anonimous functions (lambda)\n",
    "\n",
    "When using functional style, there is often the need to create specific functions that perform a limited task as input to a HOF such as map or filter. In such cases, these functions are often written as anonymous or lambda functions. \n",
    "The syntax is as follows:\n",
    "\n",
    "lambda *arguments* : *expression*\n",
    "\n",
    "\n",
    "If you find it hard to understand what a lambda function is doing, it should probably be rewritten as a regular function."
   ]
  },
  {
   "cell_type": "code",
   "execution_count": 12,
   "metadata": {},
   "outputs": [
    {
     "data": {
      "text/plain": [
       "7"
      ]
     },
     "execution_count": 12,
     "metadata": {},
     "output_type": "execute_result"
    }
   ],
   "source": [
    "suml = lambda x,y: x+y\n",
    "suml(3,4)"
   ]
  },
  {
   "cell_type": "code",
   "execution_count": 13,
   "metadata": {},
   "outputs": [
    {
     "data": {
      "text/plain": [
       "7"
      ]
     },
     "execution_count": 13,
     "metadata": {},
     "output_type": "execute_result"
    }
   ],
   "source": [
    "(lambda x,y: x+y)(3,4)"
   ]
  },
  {
   "cell_type": "code",
   "execution_count": 14,
   "metadata": {},
   "outputs": [
    {
     "data": {
      "text/plain": [
       "7"
      ]
     },
     "execution_count": 14,
     "metadata": {},
     "output_type": "execute_result"
    }
   ],
   "source": [
    "suml(3,4)"
   ]
  },
  {
   "cell_type": "code",
   "execution_count": 30,
   "metadata": {},
   "outputs": [
    {
     "name": "stdout",
     "output_type": "stream",
     "text": [
      "0\n",
      "1\n",
      "4\n",
      "9\n",
      "16\n"
     ]
    },
    {
     "data": {
      "text/plain": [
       "[0, 1, 4, 9, 16]"
      ]
     },
     "execution_count": 30,
     "metadata": {},
     "output_type": "execute_result"
    }
   ],
   "source": [
    "for i in map(lambda x: x*x, range(5)): print (i)\n",
    "\n",
    "#list version\n",
    "[i for i in map(lambda x: x*x, range(5))]"
   ]
  },
  {
   "cell_type": "code",
   "execution_count": null,
   "metadata": {},
   "outputs": [],
   "source": [
    "# what does this function do?\n",
    "from functools import reduce\n",
    "s1 = reduce(lambda x, y: x+y, map(lambda x: x**2, range(1,10)))\n",
    "print(s1)\n"
   ]
  },
  {
   "cell_type": "markdown",
   "metadata": {},
   "source": [
    "## Recursive functions "
   ]
  },
  {
   "cell_type": "code",
   "execution_count": 4,
   "metadata": {},
   "outputs": [
    {
     "name": "stdout",
     "output_type": "stream",
     "text": [
      "[1, 1, 2, 3, 5, 8, 13, 21, 34, 55]\n"
     ]
    }
   ],
   "source": [
    "def fib1(n):\n",
    "    \"\"\"Fib with recursion.\"\"\"\n",
    "\n",
    "    # base case\n",
    "    if n==0 or n==1:\n",
    "        return 1\n",
    "    # recursive case\n",
    "    else:\n",
    "        return fib1(n-1) + fib1(n-2)\n",
    "\n",
    "    \n",
    "print ([fib1(i) for i in range(10)])"
   ]
  },
  {
   "cell_type": "code",
   "execution_count": 10,
   "metadata": {},
   "outputs": [
    {
     "name": "stdout",
     "output_type": "stream",
     "text": [
      "a= 0 b= 1\n",
      "a= 1 b= 1 \n",
      "\n",
      "a= 0 b= 1\n",
      "a= 1 b= 1 \n",
      "\n",
      "a= 1 b= 1\n",
      "a= 1 b= 2 \n",
      "\n",
      "a= 0 b= 1\n",
      "a= 1 b= 1 \n",
      "\n",
      "a= 1 b= 1\n",
      "a= 1 b= 2 \n",
      "\n",
      "a= 1 b= 2\n",
      "a= 2 b= 3 \n",
      "\n",
      "a= 0 b= 1\n",
      "a= 1 b= 1 \n",
      "\n",
      "a= 1 b= 1\n",
      "a= 1 b= 2 \n",
      "\n",
      "a= 1 b= 2\n",
      "a= 2 b= 3 \n",
      "\n",
      "a= 2 b= 3\n",
      "a= 3 b= 5 \n",
      "\n",
      "a= 0 b= 1\n",
      "a= 1 b= 1 \n",
      "\n",
      "a= 1 b= 1\n",
      "a= 1 b= 2 \n",
      "\n",
      "a= 1 b= 2\n",
      "a= 2 b= 3 \n",
      "\n",
      "a= 2 b= 3\n",
      "a= 3 b= 5 \n",
      "\n",
      "a= 3 b= 5\n",
      "a= 5 b= 8 \n",
      "\n",
      "a= 0 b= 1\n",
      "a= 1 b= 1 \n",
      "\n",
      "a= 1 b= 1\n",
      "a= 1 b= 2 \n",
      "\n",
      "a= 1 b= 2\n",
      "a= 2 b= 3 \n",
      "\n",
      "a= 2 b= 3\n",
      "a= 3 b= 5 \n",
      "\n",
      "a= 3 b= 5\n",
      "a= 5 b= 8 \n",
      "\n",
      "a= 5 b= 8\n",
      "a= 8 b= 13 \n",
      "\n",
      "a= 0 b= 1\n",
      "a= 1 b= 1 \n",
      "\n",
      "a= 1 b= 1\n",
      "a= 1 b= 2 \n",
      "\n",
      "a= 1 b= 2\n",
      "a= 2 b= 3 \n",
      "\n",
      "a= 2 b= 3\n",
      "a= 3 b= 5 \n",
      "\n",
      "a= 3 b= 5\n",
      "a= 5 b= 8 \n",
      "\n",
      "a= 5 b= 8\n",
      "a= 8 b= 13 \n",
      "\n",
      "a= 8 b= 13\n",
      "a= 13 b= 21 \n",
      "\n",
      "a= 0 b= 1\n",
      "a= 1 b= 1 \n",
      "\n",
      "a= 1 b= 1\n",
      "a= 1 b= 2 \n",
      "\n",
      "a= 1 b= 2\n",
      "a= 2 b= 3 \n",
      "\n",
      "a= 2 b= 3\n",
      "a= 3 b= 5 \n",
      "\n",
      "a= 3 b= 5\n",
      "a= 5 b= 8 \n",
      "\n",
      "a= 5 b= 8\n",
      "a= 8 b= 13 \n",
      "\n",
      "a= 8 b= 13\n",
      "a= 13 b= 21 \n",
      "\n",
      "a= 13 b= 21\n",
      "a= 21 b= 34 \n",
      "\n",
      "a= 0 b= 1\n",
      "a= 1 b= 1 \n",
      "\n",
      "a= 1 b= 1\n",
      "a= 1 b= 2 \n",
      "\n",
      "a= 1 b= 2\n",
      "a= 2 b= 3 \n",
      "\n",
      "a= 2 b= 3\n",
      "a= 3 b= 5 \n",
      "\n",
      "a= 3 b= 5\n",
      "a= 5 b= 8 \n",
      "\n",
      "a= 5 b= 8\n",
      "a= 8 b= 13 \n",
      "\n",
      "a= 8 b= 13\n",
      "a= 13 b= 21 \n",
      "\n",
      "a= 13 b= 21\n",
      "a= 21 b= 34 \n",
      "\n",
      "a= 21 b= 34\n",
      "a= 34 b= 55 \n",
      "\n",
      "[1, 1, 2, 3, 5, 8, 13, 21, 34, 55]\n",
      "1 1\n"
     ]
    }
   ],
   "source": [
    "# In Python, a more efficient version that does not use recursion is\n",
    "\n",
    "def fib2(n):\n",
    "    \"\"\"Fib without recursion.\"\"\"\n",
    "    a, b = 0, 1\n",
    "    for i in range(1, n+1):\n",
    "        print('a=', a, 'b=', b)\n",
    "        a, b = b, a+b\n",
    "        print('a=', a, 'b=', b, '\\n' )\n",
    "    return b\n",
    "\n",
    "#NB: è differente dal C?\n",
    "\n",
    "print ([fib2(i) for i in range(10)])\n",
    "\n",
    "a, b = 0, 1\n",
    "a, b = b, a+b\n",
    "print(a, b)\n",
    "\n",
    "#perchè il nuovo valore assegnato di b non usa il nuovo valore asegnato di a?"
   ]
  },
  {
   "cell_type": "code",
   "execution_count": 6,
   "metadata": {},
   "outputs": [
    {
     "name": "stdout",
     "output_type": "stream",
     "text": [
      "1.43 ms ± 25 µs per loop (mean ± std. dev. of 7 runs, 1000 loops each)\n",
      "630 ns ± 13.7 ns per loop (mean ± std. dev. of 7 runs, 1000000 loops each)\n"
     ]
    }
   ],
   "source": [
    "# check indeed the timing:\n",
    "\n",
    "%timeit fib1(20)\n",
    "%timeit fib2(20)\n"
   ]
  },
  {
   "cell_type": "markdown",
   "metadata": {},
   "source": [
    "## Iterators\n",
    "\n",
    "Iterators represent streams of values. Because only one value is consumed at a time, they use very little memory. Use of iterators is very helpful for working with data sets too large to fit into RAM."
   ]
  },
  {
   "cell_type": "code",
   "execution_count": null,
   "metadata": {},
   "outputs": [],
   "source": [
    "# Iterators can be created from sequences with the built-in function iter()\n",
    "\n",
    "xs = [1,2,3]\n",
    "x_iter = iter(xs)\n",
    "\n",
    "print (next(x_iter))\n",
    "print (next(x_iter))\n",
    "print (next(x_iter))\n",
    "print (next(x_iter))"
   ]
  },
  {
   "cell_type": "code",
   "execution_count": null,
   "metadata": {},
   "outputs": [],
   "source": [
    "# Most commonly, iterators are used (automatically) within a for loop\n",
    "# which terminates when it encouters a StopIteration exception\n",
    "\n",
    "x_iter = iter(xs)\n",
    "for x in x_iter:\n",
    "    print (x)"
   ]
  },
  {
   "cell_type": "markdown",
   "metadata": {},
   "source": [
    "## More on comprehensions"
   ]
  },
  {
   "cell_type": "code",
   "execution_count": null,
   "metadata": {},
   "outputs": [],
   "source": [
    "# A generator expression\n",
    "\n",
    "print ((x for x in range(10)))\n",
    "\n",
    "# A list comprehesnnion\n",
    "\n",
    "print ([x for x in range(10)])\n",
    "\n",
    "# A set comprehension\n",
    "\n",
    "print ({x for x in range(10)})\n",
    "\n",
    "# A dictionary comprehension\n",
    "\n",
    "print ({x: \"x\" for x in range(10)})"
   ]
  },
  {
   "cell_type": "markdown",
   "metadata": {},
   "source": [
    "## Useful Modules\n",
    "\n",
    "You may want to have a look at the content of the following modules for further usage of (HO) functions:\n",
    "  - [operator](https://docs.python.org/3/library/operator.html)\n",
    "  - [functools](https://docs.python.org/3/library/functools.html)\n",
    "  - [itertools](https://docs.python.org/3/library/itertools.html)\n",
    "  - [toolz](https://pypi.org/project/toolz/)\n",
    "  - [funcy](https://pypi.org/project/funcy/)"
   ]
  },
  {
   "cell_type": "markdown",
   "metadata": {},
   "source": [
    "## Decorators\n",
    "\n",
    "Decorators are a type of HOF that take a function and return a wrapped function that provides additional useful properties.\n",
    "\n",
    "Examples:\n",
    "\n",
    "  - logging\n",
    "  - profiling\n",
    "  - Just-In-Time (JIT) compilation"
   ]
  },
  {
   "cell_type": "code",
   "execution_count": 2,
   "metadata": {},
   "outputs": [],
   "source": [
    "def my_decorator(func):\n",
    "    def wrapper():\n",
    "        print(\"Something is happening before the function is called.\")\n",
    "        func()\n",
    "        print(\"Something is happening after the function is called.\")\n",
    "    return wrapper\n",
    "\n",
    "def say_whee():\n",
    "    print(\"Whee!\")\n",
    "\n",
    "say_whee = my_decorator(say_whee)"
   ]
  },
  {
   "cell_type": "code",
   "execution_count": 3,
   "metadata": {},
   "outputs": [
    {
     "name": "stdout",
     "output_type": "stream",
     "text": [
      "Something is happening before the function is called.\n",
      "Whee!\n",
      "Something is happening after the function is called.\n"
     ]
    }
   ],
   "source": [
    "say_whee\n",
    "\n",
    "say_whee()"
   ]
  },
  {
   "cell_type": "markdown",
   "metadata": {},
   "source": [
    "Python allows you to use decorators in a simpler way with the @ symbol, sometimes called the “pie” syntax"
   ]
  },
  {
   "cell_type": "code",
   "execution_count": null,
   "metadata": {},
   "outputs": [],
   "source": [
    "def my_decorator(func):\n",
    "    def wrapper():\n",
    "        print(\"Something is happening before the function is called.\")\n",
    "        func()\n",
    "        print(\"Something is happening after the function is called.\")\n",
    "    return wrapper\n",
    "\n",
    "@my_decorator\n",
    "def say_whee():\n",
    "    print(\"Whee!\")\n"
   ]
  },
  {
   "cell_type": "code",
   "execution_count": null,
   "metadata": {},
   "outputs": [],
   "source": [
    "say_whee()"
   ]
  },
  {
   "cell_type": "markdown",
   "metadata": {},
   "source": [
    "# Classes and Objects\n",
    "\n",
    "Old school object-oriented programming is possible and often used in python. Classes are defined similarly to standard object-oriented languages, with similar functionalities.\n",
    "\n",
    "The main python doc [page](https://docs.python.org/3/tutorial/classes.html) is worth reading through "
   ]
  },
  {
   "cell_type": "code",
   "execution_count": null,
   "metadata": {},
   "outputs": [],
   "source": [
    "class Pet:\n",
    "    # the \"constructor\"\n",
    "    #'self' is keyword for classes\n",
    "    def __init__(self, name, age):  #inizialize the elements of the class\n",
    "        self.name=name\n",
    "        self.age=age\n",
    "    # class functions take the \"self\" parameter !!!\n",
    "    def set_name(self,name):\n",
    "        self.name=name\n",
    "    def convert_age(self,factor):\n",
    "        self.age*=factor\n",
    "\n",
    "buddy=Pet(\"buddy\",12)\n",
    "print (buddy.name, buddy.age)\n",
    "buddy.age=3\n",
    "print (buddy.age)\n",
    "\n"
   ]
  },
  {
   "cell_type": "code",
   "execution_count": null,
   "metadata": {},
   "outputs": [],
   "source": [
    "# ineritance is straightforward\n",
    "class Dog(Pet):\n",
    "    # the following variables is \"global\", i.e. holds for all \"Dog\" objects\n",
    "    species = \"mammal\"\n",
    "    # functions can be redefined as usual\n",
    "    def convert_age(self):\n",
    "        self.age*=7\n",
    "    def set_species(self, species):\n",
    "        self.species = species\n",
    "        \n",
    "puppy=Dog(\"tobia\",10)\n",
    "print(puppy.name)\n",
    "puppy.convert_age()\n",
    "print(puppy.age)\n",
    "\n"
   ]
  },
  {
   "cell_type": "code",
   "execution_count": null,
   "metadata": {},
   "outputs": [],
   "source": []
  }
 ],
 "metadata": {
  "kernelspec": {
   "display_name": "Python 3 (ipykernel)",
   "language": "python",
   "name": "python3"
  },
  "language_info": {
   "codemirror_mode": {
    "name": "ipython",
    "version": 3
   },
   "file_extension": ".py",
   "mimetype": "text/x-python",
   "name": "python",
   "nbconvert_exporter": "python",
   "pygments_lexer": "ipython3",
   "version": "3.10.6"
  }
 },
 "nbformat": 4,
 "nbformat_minor": 2
}
